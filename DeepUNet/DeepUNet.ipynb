{
 "cells": [
  {
   "cell_type": "markdown",
   "metadata": {},
   "source": [
    "## UNet"
   ]
  },
  {
   "cell_type": "code",
   "execution_count": 18,
   "metadata": {
    "collapsed": true
   },
   "outputs": [],
   "source": [
    "from keras.layers import Input, Conv2D, Dropout, BatchNormalization, MaxPooling2D, Concatenate, UpSampling2D\n",
    "from keras.layers import Reshape, Activation, Permute, Add\n",
    "from keras.models import Model\n",
    "import keras"
   ]
  },
  {
   "cell_type": "code",
   "execution_count": 124,
   "metadata": {
    "collapsed": true
   },
   "outputs": [],
   "source": [
    "class Nets():\n",
    "    def __init__(self):\n",
    "        pass\n",
    "    \n",
    "    def downBlock(self, x, activation='relu', \n",
    "                  kernel_initializer='he_normal', dropout_rate=0, \n",
    "                  weight_decay=0, add=True, pooling = True):\n",
    "        \n",
    "        conv = Conv2D(128, (3, 3), activation=activation, padding='same',\n",
    "                       kernel_initializer=kernel_initializer)(x)\n",
    "        conv = Dropout(dropout_rate)(conv)\n",
    "        conv = Conv2D(64, (2, 2), activation=activation, \n",
    "                      padding='same',kernel_initializer=kernel_initializer)(conv)\n",
    "        pool = None\n",
    "        \n",
    "        if add:\n",
    "            conv = self.addLayer(conv,x)\n",
    "        \n",
    "        if pooling:\n",
    "            pool = MaxPooling2D(pool_size=(2, 2))(conv)\n",
    "        return pool, conv\n",
    "    \n",
    "    def upBlock(self,x, h, activation='relu', \n",
    "                  kernel_initializer='he_normal', dropout_rate=0.2, weight_decay=0):\n",
    "        \n",
    "        up = Concatenate(axis=-1)([UpSampling2D(size=(2, 2))(x), h])\n",
    "        conv = Conv2D(128, (3, 3), activation=activation, padding='same',\n",
    "                      kernel_initializer=kernel_initializer)(up)\n",
    "        conv = Dropout(dropout_rate)(conv)\n",
    "        conv = Conv2D(64, (2, 2), activation=activation, \n",
    "                      padding='same',kernel_initializer=kernel_initializer)(conv)\n",
    "        \n",
    "        return conv\n",
    "\n",
    "    \n",
    "    def addLayer(self,x1,x2):\n",
    "        y = Add()([x1, x2])\n",
    "        return y\n",
    "    \n",
    "    def DeepUnet(self, nClasses, depth = 3 , optimizer='RMSprop', final_activation = 'softmax', kernel_initializer='he_normal',\n",
    "             dropout_rate = 0.2, input_width=360 , input_height=480 , nChannels=3 ):\n",
    "         \n",
    "        inputs = Input((input_height, input_width, nChannels))\n",
    "        x = Conv2D(64, (3, 3), activation='relu', padding='same',\n",
    "                   kernel_initializer=kernel_initializer)(inputs)\n",
    "        conv = []\n",
    "        \n",
    "        for i in range(depth):\n",
    "            x, conv0 = self.downBlock(x,dropout_rate=dropout_rate,  kernel_initializer=kernel_initializer)\n",
    "            conv.append(conv0)\n",
    "        \n",
    "        x, conv0 = self.downBlock(x, pooling=False, kernel_initializer=kernel_initializer)\n",
    "        x = conv0\n",
    "        \n",
    "        for i in range(depth):\n",
    "            x = self.upBlock(x, conv[depth-i-1], dropout_rate=dropout_rate, kernel_initializer=kernel_initializer)\n",
    "        \n",
    "        conv0 = Conv2D(nClasses, (1, 1), activation='relu',padding='same',kernel_initializer=kernel_initializer)(x)\n",
    "        conv0 = Reshape((nClasses,input_height*input_width))(conv0)\n",
    "        conv0 = Permute((2,1))(conv0)\n",
    "\n",
    "        conv0 = Activation(final_activation)(conv0)\n",
    "\n",
    "        model = Model(input=inputs, output=conv0)\n",
    "\n",
    "        if not optimizer is None:\n",
    "            model.compile(loss=\"categorical_crossentropy\", optimizer= optimizer , metrics=['accuracy'] )\n",
    "        return model\n",
    "    "
   ]
  }
 ],
 "metadata": {
  "kernelspec": {
   "display_name": "Python 3",
   "language": "python",
   "name": "python3"
  },
  "language_info": {
   "codemirror_mode": {
    "name": "ipython",
    "version": 3
   },
   "file_extension": ".py",
   "mimetype": "text/x-python",
   "name": "python",
   "nbconvert_exporter": "python",
   "pygments_lexer": "ipython3",
   "version": "3.6.1"
  }
 },
 "nbformat": 4,
 "nbformat_minor": 2
}
